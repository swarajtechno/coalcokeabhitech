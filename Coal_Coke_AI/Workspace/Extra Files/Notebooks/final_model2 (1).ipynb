{
  "nbformat": 4,
  "nbformat_minor": 0,
  "metadata": {
    "colab": {
      "provenance": []
    },
    "kernelspec": {
      "name": "python3",
      "display_name": "Python 3"
    },
    "language_info": {
      "name": "python"
    }
  },
  "cells": [
    {
      "cell_type": "code",
      "execution_count": null,
      "metadata": {
        "id": "0yeB18ULd59s"
      },
      "outputs": [],
      "source": [
        "import numpy as np\n",
        "\n",
        "# Define the B matrix\n",
        "coal_percentages = np.array([\n",
        "    [26, 20, 39, 0, 15, 0, 0,0,0,0,0,0,0],\n",
        "    [26, 20, 39, 0, 15, 0, 0,0,0,0,0,0,0],\n",
        "    [26, 20, 39, 0, 15, 0, 0,0,0,0,0,0,0],\n",
        "    [26, 20, 39, 0, 15, 0, 0,0,0,0,0,0,0],\n",
        "    [22, 17, 30, 0, 16, 15, 0,0,0,0,0,0,0],\n",
        "    [22, 17, 30, 0, 16, 15, 0,0,0,0,0,0,0],\n",
        "    [22, 17, 30, 0, 16, 15, 0,0,0,0,0,0,0],\n",
        "    [22, 17, 30, 0, 16, 15, 0,0,0,0,0,0,0],\n",
        "    [22, 17, 30, 0, 16, 15, 0,0,0,0,0,0,0],\n",
        "    [24, 20, 32, 0, 16, 8, 0,0,0,0,0,0,0],\n",
        "    [24, 20, 32, 0, 16, 8, 0,0,0,0,0,0,0],\n",
        "    [24, 20, 32, 0, 16, 8, 0,0,0,0,0,0,0],\n",
        "    [24, 20, 32, 0, 16, 8, 0,0,0,0,0,0,0],\n",
        "    [24, 20, 32, 0, 16, 8, 0,0,0,0,0,0,0],\n",
        "    [22, 26, 32, 0, 20, 0, 0,0,0,0,0,0,0],\n",
        "    [16, 18, 34, 14, 18, 0, 0,0,0,0,0,0,0],\n",
        "    [16, 18, 34, 14, 18, 0, 0,0,0,0,0,0,0],\n",
        "    [16, 18, 34, 14, 18, 0, 0,0,0,0,0,0,0],\n",
        "    [22, 20, 38, 0, 20, 0, 0,0,0,0,0,0,0],\n",
        "    [17, 17, 38, 14, 14, 0, 0,0,0,0,0,0,0],\n",
        "    [17, 17, 38, 14, 14, 0, 0,0,0,0,0,0,0],\n",
        "    [17, 17, 38, 14, 14, 0, 0,0,0,0,0,0,0],\n",
        "    [17, 17, 38, 14, 14, 0, 0,0,0,0,0,0,0],\n",
        "    [17, 17, 38, 14, 14, 0, 0,0,0,0,0,0,0],\n",
        "    [17, 17, 38, 14, 14, 0, 0,0,0,0,0,0,0],\n",
        "    [17, 17, 38, 14, 14, 0, 0,0,0,0,0,0,0],\n",
        "    [17, 17, 38, 14, 14, 0, 0,0,0,0,0,0,0],\n",
        "    [17, 17, 38, 14, 14, 0, 0,0,0,0,0,0,0],\n",
        "    [18, 19, 36, 19, 8, 0, 0,0,0,0,0,0,0],\n",
        "    [18, 19, 36, 19, 8, 0, 0,0,0,0,0,0,0],\n",
        "    [18, 19, 36, 19, 8, 0, 0,0,0,0,0,0,0],\n",
        "    [18, 19, 36, 19, 8, 0, 0,0,0,0,0,0,0],\n",
        "    [18, 19, 36, 19, 8, 0, 0,0,0,0,0,0,0],\n",
        "    [18, 19, 36, 19, 8, 0, 0,0,0,0,0,0,0],\n",
        "    [18, 19, 36, 19, 8, 0, 0,0,0,0,0,0,0],\n",
        "    [18, 19, 36, 19, 8, 0, 0,0,0,0,0,0,0],\n",
        "    [18, 19, 36, 19, 8, 0, 0,0,0,0,0,0,0],\n",
        "    [18, 25, 42, 0, 15, 0, 0,0,0,0,0,0,0],\n",
        "    [18, 25, 42, 0, 15, 0, 0,0,0,0,0,0,0],\n",
        "    [18, 25, 42, 0, 15, 0, 0,0,0,0,0,0,0],\n",
        "    [18, 25, 42, 0, 15, 0, 0,0,0,0,0,0,0],\n",
        "    [18, 25, 42, 0, 15, 0, 0,0,0,0,0,0,0],\n",
        "    [18, 25, 42, 0, 15, 0, 0,0,0,0,0,0,0],\n",
        "    [18, 25, 42, 0, 15, 0, 0,0,0,0,0,0,0],\n",
        "    [18, 25, 42, 0, 15, 0, 0,0,0,0,0,0,0],\n",
        "    [18, 25, 42, 0, 15, 0, 0,0,0,0,0,0,0],\n",
        "    [22, 22, 35, 0, 16, 0, 5,0,0,0,0,0,0],\n",
        "    [22, 22, 35, 0, 16, 0, 5,0,0,0,0,0,0],\n",
        "    [22, 22, 35, 0, 16, 0, 5,0,0,0,0,0,0],\n",
        "    [22, 22, 35, 0, 16, 0, 5,0,0,0,0,0,0],\n",
        "    [22, 22, 35, 0, 16, 0, 5,0,0,0,0,0,0],\n",
        "    [22, 22, 35, 0, 16, 0, 5,0,0,0,0,0,0]\n",
        "])\n",
        "\n",
        "\n",
        "import numpy as np\n",
        "\n",
        "result = np.array([\n",
        "    [16.00, 0.93, 4.17, 0.78, 1.56, 18.64, 33.00, 24.25, 6.93, 92.47, 3.20, 4.33, 67.10, 25.10],\n",
        "    [15.52, 0.85, 4.60, 0.78, 1.71, 19.08, 34.57, 22.63, 6.50, 92.47, 3.13, 4.40, 67.40, 23.90],\n",
        "    [16.18, 0.90, 4.63, 0.78, 1.74, 19.37, 33.23, 22.70, 6.37, 92.33, 3.27, 4.40, 67.80, 24.00],\n",
        "    [16.02, 0.97, 3.77, 0.78, 1.59, 18.95, 33.21, 22.98, 6.67, 92.40, 3.27, 4.33, 67.50, 24.10],\n",
        "    [15.77, 0.90, 4.37, 0.78, 1.76, 18.41, 33.91, 23.94, 6.63, 92.96, 3.22, 3.82, 67.20, 23.40],\n",
        "    [15.48, 0.97, 4.20, 0.78, 1.62, 18.86, 34.32, 23.31, 6.60, 92.74, 2.73, 4.53, 68.80, 22.00],\n",
        "    [15.40, 0.90, 4.20, 0.78, 1.37, 18.99, 33.76, 24.48, 6.43, 92.60, 3.13, 4.27, 68.50, 23.30],\n",
        "    [15.13, 0.92, 4.17, 0.78, 1.31, 19.58, 33.30, 25.10, 6.03, 92.80, 3.13, 4.07, 68.70, 22.10],\n",
        "    [15.13, 0.95, 4.20, 0.78, 1.44, 19.49, 33.14, 24.37, 6.53, 92.87, 3.13, 4.00, 68.90, 23.10],\n",
        "    [15.25, 0.88, 4.00, 0.71, 1.59, 19.33, 32.89, 23.62, 6.37, 92.67, 2.95, 4.38, 68.40, 22.60],\n",
        "    [15.70, 0.97, 4.10, 0.78, 1.61, 16.47, 36.76, 25.95, 6.47, 92.60, 3.20, 4.20, 67.80, 24.00],\n",
        "    [15.20, 0.90, 4.07, 0.78, 0.99, 17.94, 34.52, 24.72, 6.40, 92.67, 3.13, 4.20, 65.60, 23.40],\n",
        "    [15.10, 0.90, 4.40, 0.78, 1.59, 18.96, 33.30, 23.35, 6.60, 93.00, 3.20, 3.80, 0.78, 0.78],\n",
        "    [14.75, 0.83, 3.90, 0.78, 1.12, 17.56, 35.63, 24.15, 6.35, 92.50, 3.10, 4.40, 68.30, 23.00],\n",
        "    [15.33, 0.93, 4.20, 0.78, 1.88, 18.48, 33.05, 24.82, 6.40, 92.53, 2.93, 4.53, 69.03, 22.39],\n",
        "    [16.03, 0.95, 3.84, 1.00, 1.72, 18.90, 33.78, 23.07, 6.70, 92.50, 3.00, 4.50, 67.89, 25.14],\n",
        "    [15.73, 0.98, 4.03, 0.78, 1.57, 20.23, 32.53, 23.42, 6.43, 92.80, 3.20, 4.00, 69.88, 22.44],\n",
        "    [15.07, 0.90, 4.85, 0.78, 1.41, 19.46, 32.60, 23.80, 6.70, 92.40, 3.00, 4.60, 67.10, 23.60],\n",
        "    [15.00, 1.00, 4.43, 1.20, 2.08, 18.29, 33.53, 24.30, 6.03, 92.60, 3.07, 4.33, 68.05, 24.06],\n",
        "    [15.35, 0.88, 3.80, 0.85, 1.70, 17.97, 33.86, 24.66, 6.50, 92.07, 3.33, 4.60, 68.10, 24.43],\n",
        "    [14.95, 0.98, 3.80, 0.91, 1.70, 19.02, 34.25, 23.17, 5.87, 92.80, 2.87, 4.33, 68.73, 24.22],\n",
        "    [15.45, 1.00, 3.77, 1.39, 1.68, 19.65, 31.61, 24.28, 6.77, 92.60, 3.13, 4.27, 69.70, 23.30],\n",
        "    [15.10, 1.04, 3.57, 0.88, 1.66, 18.54, 34.18, 23.76, 5.97, 92.67, 3.00, 4.33, 68.70, 23.60],\n",
        "    [15.22, 1.00, 3.77, 0.78, 1.57, 18.64, 33.21, 24.00, 6.00, 92.60, 3.00, 4.40, 69.20, 23.80],\n",
        "    [15.15, 1.08, 3.57, 0.78, 1.83, 19.42, 32.12, 23.92, 6.53, 92.60, 3.13, 4.27, 68.90, 23.40],\n",
        "    [15.25, 0.97, 3.80, 0.78, 1.73, 19.19, 32.63, 23.52, 6.67, 92.47, 3.13, 4.40, 66.10, 26.50],\n",
        "    [14.92, 1.08, 3.60, 0.78, 1.62, 18.91, 32.97, 24.27, 6.80, 92.40, 3.13, 4.47, 67.30, 24.30],\n",
        "    [14.88, 0.98, 3.87, 0.78, 1.49, 18.71, 32.70, 23.71, 6.43, 92.47, 3.13, 4.40, 67.00, 23.00],\n",
        "    [15.48, 0.97, 4.20, 0.78, 1.62, 18.86, 34.32, 23.31, 6.60, 92.74, 2.73, 4.53, 68.80, 22.00],\n",
        "    [15.40, 0.90, 4.20, 0.78, 1.37, 18.99, 33.76, 24.48, 6.43, 92.60, 3.13, 4.27, 68.50, 23.30],\n",
        "    [15.13, 0.92, 4.17, 0.78, 1.31, 19.58, 33.30, 25.10, 6.03, 92.80, 3.13, 4.07, 68.70, 22.10],\n",
        "    [15.13, 0.95, 4.20, 0.78, 1.44, 19.49, 33.14, 24.37, 6.53, 92.87, 3.13, 4.00, 68.90, 23.10],\n",
        "    [15.25, 0.88, 4.00, 0.71, 1.59, 19.33, 32.89, 23.62, 6.37, 92.67, 2.95, 4.38, 68.40, 22.60],\n",
        "    [15.70, 0.97, 4.10, 0.78, 1.61, 16.47, 36.76, 25.95, 6.47, 92.60, 3.20, 4.20, 67.80, 24.00],\n",
        "    [15.20, 0.90, 4.07, 0.78, 0.99, 17.94, 34.52, 24.72, 6.40, 92.67, 3.13, 4.20, 65.60, 23.40],\n",
        "    [15.10, 0.90, 4.40, 0.78, 1.59, 18.96, 33.30, 23.35, 6.60, 93.00, 3.20, 3.80, 68.50, 23.30],\n",
        "    [14.75, 0.83, 3.90, 0.78, 1.12, 17.56, 35.63, 24.15, 6.35, 92.50, 3.10, 4.40, 68.30, 23.00],\n",
        "    [15.33, 0.93, 4.20, 0.78, 1.88, 18.48, 33.05, 24.82, 6.40, 92.53, 2.93, 4.53, 69.03, 22.39],\n",
        "    [16.03, 0.95, 3.84, 1.00, 1.72, 18.90, 33.78, 23.07, 6.70, 92.50, 3.00, 4.50, 67.89, 25.14],\n",
        "    [15.73, 0.98, 4.03, 0.78, 1.57, 20.23, 32.53, 23.42, 6.43, 92.80, 3.20, 4.00, 69.88, 22.44],\n",
        "    [15.07, 0.90, 4.85, 0.78, 1.41, 19.46, 32.60, 23.80, 6.70, 92.40, 3.00, 4.60, 67.10, 23.60],\n",
        "    [15.00, 1.00, 4.43, 1.20, 2.08, 18.29, 33.53, 24.30, 6.03, 92.60, 3.07, 4.33, 68.05, 24.06],\n",
        "    [15.35, 0.88, 3.80, 0.85, 1.70, 17.97, 33.86, 24.66, 6.50, 92.07, 3.33, 4.60, 68.10, 24.43],\n",
        "    [14.95, 0.98, 3.80, 0.91, 1.70, 19.02, 34.25, 23.17, 5.87, 92.80, 2.87, 4.33, 68.73, 24.22],\n",
        "    [15.45, 1.00, 3.77, 1.39, 1.68, 19.65, 31.61, 24.28, 6.77, 92.60, 3.13, 4.27, 69.70, 23.30],\n",
        "    [15.10, 1.04, 3.57, 0.88, 1.66, 18.54, 34.18, 23.76, 5.97, 92.67, 3.00, 4.33, 68.70, 23.60],\n",
        "    [15.22, 1.00, 3.77, 0.78, 1.57, 18.64, 33.21, 24.00, 6.00, 92.60, 3.00, 4.40, 69.20, 23.80],\n",
        "    [15.15, 1.08, 3.57, 0.78, 1.83, 19.42, 32.12, 23.92, 6.53, 92.60, 3.13, 4.27, 68.90, 23.40],\n",
        "    [15.25, 0.97, 3.80, 0.78, 1.73, 19.19, 32.63, 23.52, 6.67, 92.47, 3.13, 4.40, 66.10, 26.50],\n",
        "    [14.92, 1.08, 3.60, 0.78, 1.62, 18.91, 32.97, 24.27, 6.80, 92.40, 3.13, 4.47, 67.30, 24.30],\n",
        "    [14.88, 0.98, 3.87, 0.78, 1.49, 18.71, 32.70, 23.71, 6.43, 92.47, 3.13, 4.40, 67.00, 23.00],\n",
        "    [14.65, 0.95, 3.77, 0.78, 1.62, 19.29, 32.63, 24.13, 6.27, 92.67, 3.13, 4.20, 65.93, 23.42]\n",
        "\n",
        "])\n",
        "\n",
        "\n",
        "\n",
        "\n",
        "from sklearn.model_selection import train_test_split\n",
        "from sklearn.preprocessing import StandardScaler\n",
        "X_train, X_test, y_train, y_test = train_test_split(coal_percentages, result, test_size=0.2, random_state=42)\n",
        "\n",
        "# Standardize the features\n",
        "scaler = StandardScaler()\n",
        "\n",
        "\n",
        "# Fit the scaler on the training data and transform both training and test data\n",
        "X_train_scaled = scaler.fit_transform(X_train)\n",
        "X_test_scaled = scaler.transform(X_test)\n",
        "\n",
        "\n",
        "\n"
      ]
    },
    {
      "cell_type": "code",
      "source": [
        "result.shape"
      ],
      "metadata": {
        "colab": {
          "base_uri": "https://localhost:8080/"
        },
        "id": "5UDPLujjs0Ud",
        "outputId": "2215f102-716b-4bbd-82d8-bc8a69a85d44"
      },
      "execution_count": null,
      "outputs": [
        {
          "output_type": "execute_result",
          "data": {
            "text/plain": [
              "(52, 14)"
            ]
          },
          "metadata": {},
          "execution_count": 2
        }
      ]
    },
    {
      "cell_type": "code",
      "source": [
        "from sklearn.ensemble import RandomForestRegressor\n",
        "\n",
        "# Define the model\n",
        "rf_model = RandomForestRegressor(n_estimators=100, random_state=42)\n",
        "\n",
        "# Train the model\n",
        "rf_model.fit(X_train, y_train)\n",
        "\n",
        "# Predict on new data\n",
        "y_pred = rf_model.predict(X_test)\n",
        "\n",
        "# Evaluate the model\n",
        "from sklearn.metrics import mean_squared_error\n",
        "mse = mean_squared_error(y_test, y_pred)\n",
        "print(f\"Mean Squared Error: {mse}\")\n"
      ],
      "metadata": {
        "colab": {
          "base_uri": "https://localhost:8080/"
        },
        "id": "UALCZ8Nmd_cd",
        "outputId": "6391394c-b87a-448e-9d0f-65fd1a91b16d"
      },
      "execution_count": null,
      "outputs": [
        {
          "output_type": "stream",
          "name": "stdout",
          "text": [
            "Mean Squared Error: 32.384739214367485\n"
          ]
        }
      ]
    },
    {
      "cell_type": "code",
      "source": [
        "Test1=np.array([\n",
        "    [17, 17, 38, 14, 14, 0, 0,0,0,0,0,0,0]\n",
        "])\n",
        "\n",
        "Pred1=rf_model.predict(Test1)\n",
        "print(Pred1)"
      ],
      "metadata": {
        "colab": {
          "base_uri": "https://localhost:8080/"
        },
        "id": "p0wDSGl-eCwp",
        "outputId": "6bedebe7-04fb-4b52-f4a9-0644a9df1795"
      },
      "execution_count": null,
      "outputs": [
        {
          "output_type": "stream",
          "name": "stdout",
          "text": [
            "[[15.11750957  1.01454984  3.72232521  0.89157225  1.66103137 19.01465325\n",
            "  32.97812788 23.81447164  6.36346026 92.58436074  3.05984049  4.35579877\n",
            "  68.25429381 24.00046334]]\n"
          ]
        }
      ]
    },
    {
      "cell_type": "code",
      "source": [
        "Test1=np.array([\n",
        "    [22, 22, 35, 0, 16, 0, 5,0,0,0,0,0,0]\n",
        "])\n",
        "\n",
        "Pred1=rf_model.predict(Test1)\n",
        "print(Pred1)"
      ],
      "metadata": {
        "colab": {
          "base_uri": "https://localhost:8080/"
        },
        "id": "bFOTWnBaeFSz",
        "outputId": "70626370-6155-4163-a6df-ef10c82c0d93"
      },
      "execution_count": null,
      "outputs": [
        {
          "output_type": "stream",
          "name": "stdout",
          "text": [
            "[[15.00889604  0.99949587  3.74134779  0.78        1.63043266 18.98149386\n",
            "  32.89528918 24.01030762  6.42023632 92.53946662  3.09309741  4.36733596\n",
            "  67.22580547 24.38512067]]\n"
          ]
        }
      ]
    },
    {
      "cell_type": "code",
      "source": [
        "import numpy as np\n",
        "from scipy.optimize import minimize\n",
        "import joblib\n",
        "\n",
        "# Define the number of coal sources and coke parameters\n",
        "NUM_COAL_SOURCES = 13\n",
        "NUM_COKE_PARAMS = 15\n",
        "\n",
        "# Minimum and Maximum percentages for the 13 coal sources\n",
        "min_percentages = np.array([25, 25, 10, 10,10 , 0, 0, 0, 0, 0, 0, 0, 0])\n",
        "max_percentages = np.array([45, 65, 25, 20, 20, 5, 4, 0, 0, 0, 0, 0, 0])\n",
        "weights = np.array([1, 1, 1, 1, 1, 1, 1, 1, 1, 1, 1, 1, 1,1])\n",
        "\n",
        "\n",
        "\n",
        "# Desired coke parameters (P)\n",
        "desired_P = np.array([15, 1, 4, 0.6, 1.63, 18, 31, 24, 6.5, 92, 3, 4, 67, 25])\n",
        "\n",
        "\n",
        "\n",
        "def objective_function(percentages, model, desired_p,weights):\n",
        "\n",
        "    # Reshape percentages for prediction (1 sample, 13 features)\n",
        "    percentages_reshaped = percentages.reshape(1, -1)\n",
        "\n",
        "    # Predict coke parameters using the model\n",
        "    predicted_p = model.predict(percentages_reshaped)[0]  # Assuming model.predict returns a 2D array\n",
        "\n",
        "    # Calculate Mean Squared Error\n",
        "    mse = np.sum(abs(predicted_p - desired_p)*weights/desired_p)\n",
        "\n",
        "    return mse\n",
        "\n"
      ],
      "metadata": {
        "id": "PsrbCFETbuxA"
      },
      "execution_count": null,
      "outputs": []
    },
    {
      "cell_type": "code",
      "source": [
        "# Define bounds for each of the 13 coal sources\n",
        "bounds = [(min_p, max_p) for min_p, max_p in zip(min_percentages, max_percentages)]\n",
        "\n",
        "# Define the equality constraint: sum(percentages) = 100\n",
        "def total_percentage_constraint(percentages):\n",
        "    return np.sum(percentages) - 100\n",
        "\n",
        "constraints = {\n",
        "    'type': 'eq',\n",
        "    'fun': total_percentage_constraint\n",
        "}\n"
      ],
      "metadata": {
        "id": "4kDf9J07bx8Z"
      },
      "execution_count": null,
      "outputs": []
    },
    {
      "cell_type": "code",
      "source": [
        "# Initial guess: midpoint between min and max percentages\n",
        "initial_guess = (min_percentages + max_percentages) / 2\n",
        "\n",
        "# Perform the optimization using SLSQP\n",
        "result = minimize(\n",
        "    fun=objective_function,\n",
        "    x0=initial_guess,\n",
        "    args=(rf_model, desired_P, weights),\n",
        "    method='SLSQP',\n",
        "    bounds=bounds,\n",
        "    constraints=constraints,\n",
        "    options={'disp': True, 'maxiter': 10000}\n",
        ")\n"
      ],
      "metadata": {
        "colab": {
          "base_uri": "https://localhost:8080/"
        },
        "id": "ru45HP0Tb4Eg",
        "outputId": "e68c1dd6-06ed-42a6-8ef8-e72134852ace"
      },
      "execution_count": null,
      "outputs": [
        {
          "output_type": "stream",
          "name": "stdout",
          "text": [
            "Optimization terminated successfully    (Exit mode 0)\n",
            "            Current function value: 0.8551730897798099\n",
            "            Iterations: 2\n",
            "            Function evaluations: 16\n",
            "            Gradient evaluations: 2\n"
          ]
        }
      ]
    },
    {
      "cell_type": "code",
      "source": [
        "# Check if the optimization was successful\n",
        "if result.success:\n",
        "    optimized_percentages = result.x\n",
        "    min_error = result.fun\n",
        "    print(\"\\nOptimization was successful!\")\n",
        "    print(f\"Optimized Percentages for the 13 Coal Sources:\")\n",
        "    for i, percentage in enumerate(optimized_percentages, start=1):\n",
        "        print(f\"Source {i}: {percentage:.2f}%\")\n",
        "    print(f\"Sum of Percentages: {np.sum(optimized_percentages):.2f}%\")\n",
        "    print(f\"Minimum Coke Quality Error (MSE): {min_error:.4f}\")\n",
        "else:\n",
        "    print(\"\\nOptimization failed.\")\n",
        "    print(result.message)\n"
      ],
      "metadata": {
        "colab": {
          "base_uri": "https://localhost:8080/"
        },
        "id": "yNJGwky4c2Qi",
        "outputId": "246ceea4-56ea-4177-9334-629eb8b44b6f"
      },
      "execution_count": null,
      "outputs": [
        {
          "output_type": "stream",
          "name": "stdout",
          "text": [
            "\n",
            "Optimization was successful!\n",
            "Optimized Percentages for the 13 Coal Sources:\n",
            "Source 1: 29.17%\n",
            "Source 2: 39.17%\n",
            "Source 3: 11.67%\n",
            "Source 4: 10.00%\n",
            "Source 5: 10.00%\n",
            "Source 6: 0.00%\n",
            "Source 7: 0.00%\n",
            "Source 8: 0.00%\n",
            "Source 9: 0.00%\n",
            "Source 10: 0.00%\n",
            "Source 11: 0.00%\n",
            "Source 12: 0.00%\n",
            "Source 13: 0.00%\n",
            "Sum of Percentages: 100.00%\n",
            "Minimum Coke Quality Error (MSE): 0.8552\n"
          ]
        }
      ]
    },
    {
      "cell_type": "code",
      "source": [
        "# Assuming rf_model is the trained random forest model\n",
        "# Pass the optimized_percentages to the rf_model for prediction\n",
        "predicted_coke_parameters = rf_model.predict([optimized_percentages])\n",
        "\n",
        "# Print the predicted coke quality parameters\n",
        "print(\"\\nPredicted Coke Quality Parameters:\")\n",
        "for i, param in enumerate(predicted_coke_parameters[0], start=1):\n",
        "    print(f\"Parameter {i}: {param:.2f}\")\n"
      ],
      "metadata": {
        "colab": {
          "base_uri": "https://localhost:8080/"
        },
        "id": "k36OpA04c6ZV",
        "outputId": "fb0fb27d-5c05-4650-deff-194d10b08136"
      },
      "execution_count": null,
      "outputs": [
        {
          "output_type": "stream",
          "name": "stdout",
          "text": [
            "\n",
            "Predicted Coke Quality Parameters:\n",
            "Parameter 1: 15.47\n",
            "Parameter 2: 0.92\n",
            "Parameter 3: 4.20\n",
            "Parameter 4: 0.78\n",
            "Parameter 5: 1.54\n",
            "Parameter 6: 18.40\n",
            "Parameter 7: 34.15\n",
            "Parameter 8: 24.33\n",
            "Parameter 9: 6.45\n",
            "Parameter 10: 92.59\n",
            "Parameter 11: 3.10\n",
            "Parameter 12: 4.31\n",
            "Parameter 13: 67.82\n",
            "Parameter 14: 23.38\n"
          ]
        }
      ]
    },
    {
      "cell_type": "code",
      "source": [
        "import numpy as np\n",
        "import pandas as pd"
      ],
      "metadata": {
        "id": "lyWnKbpfMHUf"
      },
      "execution_count": null,
      "outputs": []
    },
    {
      "cell_type": "code",
      "source": [
        "desired_P = np.array([15, 1, 4, 0.6, 1.63, 18, 31, 24, 6.5, 92, 3, 4, 67, 25])"
      ],
      "metadata": {
        "id": "gKJ35YAuLv59"
      },
      "execution_count": null,
      "outputs": []
    },
    {
      "cell_type": "code",
      "source": [
        "predicted = np.array([15.47, 0.92, 4.20, 0.78, 1.54, 18.40, 34.15, 24.33, 6.45, 92.59, 3.10, 4.31, 67.82, 23.38])\n"
      ],
      "metadata": {
        "id": "zSAmThFPLwxf"
      },
      "execution_count": null,
      "outputs": []
    },
    {
      "cell_type": "code",
      "source": [
        "error = (abs(desired_P - predicted)/desired_P)*100"
      ],
      "metadata": {
        "id": "ZAPUcTVTMMSN"
      },
      "execution_count": null,
      "outputs": []
    },
    {
      "cell_type": "code",
      "source": [
        "print(error)"
      ],
      "metadata": {
        "colab": {
          "base_uri": "https://localhost:8080/"
        },
        "id": "ihKIBauGMOX-",
        "outputId": "94a68a37-c0e9-4fc0-9e30-08e4e0052f96"
      },
      "execution_count": null,
      "outputs": [
        {
          "output_type": "stream",
          "name": "stdout",
          "text": [
            "[ 3.13333333  8.          5.         30.          5.52147239  2.22222222\n",
            " 10.16129032  1.375       0.76923077  0.64130435  3.33333333  7.75\n",
            "  1.2238806   6.48      ]\n"
          ]
        }
      ]
    }
  ]
}